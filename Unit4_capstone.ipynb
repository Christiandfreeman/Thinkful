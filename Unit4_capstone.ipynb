{
 "cells": [
  {
   "cell_type": "code",
   "execution_count": 1,
   "metadata": {},
   "outputs": [],
   "source": [
    "#importing libraries needed \n",
    "import pandas as pd\n",
    "import numpy as np\n",
    "import scipy\n",
    "import matplotlib.pyplot as plt\n",
    "import seaborn as sns\n",
    "import spacy\n",
    "import nltk\n",
    "from nltk.tokenize.toktok import ToktokTokenizer\n",
    "import re\n",
    "%matplotlib inline"
   ]
  },
  {
   "cell_type": "code",
   "execution_count": 2,
   "metadata": {},
   "outputs": [],
   "source": [
    "#import news articles \n",
    "articles = pd.read_csv('Articles.csv',encoding = \"ISO-8859-1\")"
   ]
  },
  {
   "cell_type": "code",
   "execution_count": 3,
   "metadata": {},
   "outputs": [
    {
     "data": {
      "text/html": [
       "<div>\n",
       "<style scoped>\n",
       "    .dataframe tbody tr th:only-of-type {\n",
       "        vertical-align: middle;\n",
       "    }\n",
       "\n",
       "    .dataframe tbody tr th {\n",
       "        vertical-align: top;\n",
       "    }\n",
       "\n",
       "    .dataframe thead th {\n",
       "        text-align: right;\n",
       "    }\n",
       "</style>\n",
       "<table border=\"1\" class=\"dataframe\">\n",
       "  <thead>\n",
       "    <tr style=\"text-align: right;\">\n",
       "      <th></th>\n",
       "      <th>Article</th>\n",
       "      <th>Date</th>\n",
       "      <th>Heading</th>\n",
       "      <th>NewsType</th>\n",
       "    </tr>\n",
       "  </thead>\n",
       "  <tbody>\n",
       "    <tr>\n",
       "      <th>0</th>\n",
       "      <td>KARACHI: The Sindh government has decided to b...</td>\n",
       "      <td>1/1/2015</td>\n",
       "      <td>sindh govt decides to cut public transport far...</td>\n",
       "      <td>business</td>\n",
       "    </tr>\n",
       "    <tr>\n",
       "      <th>1</th>\n",
       "      <td>HONG KONG: Asian markets started 2015 on an up...</td>\n",
       "      <td>1/2/2015</td>\n",
       "      <td>asia stocks up in new year trad</td>\n",
       "      <td>business</td>\n",
       "    </tr>\n",
       "    <tr>\n",
       "      <th>2</th>\n",
       "      <td>HONG KONG:  Hong Kong shares opened 0.66 perce...</td>\n",
       "      <td>1/5/2015</td>\n",
       "      <td>hong kong stocks open 0.66 percent lower</td>\n",
       "      <td>business</td>\n",
       "    </tr>\n",
       "    <tr>\n",
       "      <th>3</th>\n",
       "      <td>HONG KONG: Asian markets tumbled Tuesday follo...</td>\n",
       "      <td>1/6/2015</td>\n",
       "      <td>asian stocks sink euro near nine year</td>\n",
       "      <td>business</td>\n",
       "    </tr>\n",
       "    <tr>\n",
       "      <th>4</th>\n",
       "      <td>NEW YORK: US oil prices Monday slipped below $...</td>\n",
       "      <td>1/6/2015</td>\n",
       "      <td>us oil prices slip below 50 a barr</td>\n",
       "      <td>business</td>\n",
       "    </tr>\n",
       "    <tr>\n",
       "      <th>5</th>\n",
       "      <td>New York: Oil prices tumbled Tuesday to fresh ...</td>\n",
       "      <td>1/7/2015</td>\n",
       "      <td>oil hits new 5.5 year lows as saudis defend</td>\n",
       "      <td>business</td>\n",
       "    </tr>\n",
       "    <tr>\n",
       "      <th>6</th>\n",
       "      <td>KARACHI: Strong bulls on Friday pulled the ben...</td>\n",
       "      <td>1/9/2015</td>\n",
       "      <td>bullish kse jumps over 33000 psychological bar...</td>\n",
       "      <td>business</td>\n",
       "    </tr>\n",
       "    <tr>\n",
       "      <th>7</th>\n",
       "      <td>Singapore: Oil fell further in Asia Monday, wi...</td>\n",
       "      <td>1/12/2015</td>\n",
       "      <td>oil falls further in asian trad</td>\n",
       "      <td>business</td>\n",
       "    </tr>\n",
       "    <tr>\n",
       "      <th>8</th>\n",
       "      <td>KARACHI: Wholesale market rates for sugar drop...</td>\n",
       "      <td>1/13/2015</td>\n",
       "      <td>sugar prices drop to rs 49.80 in sind</td>\n",
       "      <td>business</td>\n",
       "    </tr>\n",
       "    <tr>\n",
       "      <th>9</th>\n",
       "      <td>SYDNEY: Oil prices fell 1 percent on Wednesday...</td>\n",
       "      <td>1/14/2015</td>\n",
       "      <td>oil extends losses as world bank cuts growth for</td>\n",
       "      <td>business</td>\n",
       "    </tr>\n",
       "    <tr>\n",
       "      <th>10</th>\n",
       "      <td>TOKYO: Tokyo stocks opened 0.74 percent lower ...</td>\n",
       "      <td>1/14/2015</td>\n",
       "      <td>tokyo stocks open 0.74 percent lower</td>\n",
       "      <td>business</td>\n",
       "    </tr>\n",
       "    <tr>\n",
       "      <th>11</th>\n",
       "      <td>HONG KONG: Hong Kong stocks edged up 0.24 perc...</td>\n",
       "      <td>1/15/2015</td>\n",
       "      <td>hong kong stocks open 0.24 percent higher</td>\n",
       "      <td>business</td>\n",
       "    </tr>\n",
       "    <tr>\n",
       "      <th>12</th>\n",
       "      <td>London: World oil prices rebounded Friday afte...</td>\n",
       "      <td>1/16/2015</td>\n",
       "      <td>oil market rebounds on iea repor</td>\n",
       "      <td>business</td>\n",
       "    </tr>\n",
       "    <tr>\n",
       "      <th>13</th>\n",
       "      <td>ISLAMABAD: Long queues of vehicles on fuel sta...</td>\n",
       "      <td>1/16/2015</td>\n",
       "      <td>govt may take up to ten days to overcome petro...</td>\n",
       "      <td>business</td>\n",
       "    </tr>\n",
       "    <tr>\n",
       "      <th>14</th>\n",
       "      <td>SINGAPORE: Brent crude oil prices traded aroun...</td>\n",
       "      <td>1/19/2015</td>\n",
       "      <td>brent crude steady around 50</td>\n",
       "      <td>business</td>\n",
       "    </tr>\n",
       "  </tbody>\n",
       "</table>\n",
       "</div>"
      ],
      "text/plain": [
       "                                              Article       Date  \\\n",
       "0   KARACHI: The Sindh government has decided to b...   1/1/2015   \n",
       "1   HONG KONG: Asian markets started 2015 on an up...   1/2/2015   \n",
       "2   HONG KONG:  Hong Kong shares opened 0.66 perce...   1/5/2015   \n",
       "3   HONG KONG: Asian markets tumbled Tuesday follo...   1/6/2015   \n",
       "4   NEW YORK: US oil prices Monday slipped below $...   1/6/2015   \n",
       "5   New York: Oil prices tumbled Tuesday to fresh ...   1/7/2015   \n",
       "6   KARACHI: Strong bulls on Friday pulled the ben...   1/9/2015   \n",
       "7   Singapore: Oil fell further in Asia Monday, wi...  1/12/2015   \n",
       "8   KARACHI: Wholesale market rates for sugar drop...  1/13/2015   \n",
       "9   SYDNEY: Oil prices fell 1 percent on Wednesday...  1/14/2015   \n",
       "10  TOKYO: Tokyo stocks opened 0.74 percent lower ...  1/14/2015   \n",
       "11  HONG KONG: Hong Kong stocks edged up 0.24 perc...  1/15/2015   \n",
       "12  London: World oil prices rebounded Friday afte...  1/16/2015   \n",
       "13  ISLAMABAD: Long queues of vehicles on fuel sta...  1/16/2015   \n",
       "14  SINGAPORE: Brent crude oil prices traded aroun...  1/19/2015   \n",
       "\n",
       "                                              Heading  NewsType  \n",
       "0   sindh govt decides to cut public transport far...  business  \n",
       "1                     asia stocks up in new year trad  business  \n",
       "2            hong kong stocks open 0.66 percent lower  business  \n",
       "3              asian stocks sink euro near nine year   business  \n",
       "4                  us oil prices slip below 50 a barr  business  \n",
       "5        oil hits new 5.5 year lows as saudis defend   business  \n",
       "6   bullish kse jumps over 33000 psychological bar...  business  \n",
       "7                     oil falls further in asian trad  business  \n",
       "8               sugar prices drop to rs 49.80 in sind  business  \n",
       "9    oil extends losses as world bank cuts growth for  business  \n",
       "10               tokyo stocks open 0.74 percent lower  business  \n",
       "11          hong kong stocks open 0.24 percent higher  business  \n",
       "12                   oil market rebounds on iea repor  business  \n",
       "13  govt may take up to ten days to overcome petro...  business  \n",
       "14                       brent crude steady around 50  business  "
      ]
     },
     "execution_count": 3,
     "metadata": {},
     "output_type": "execute_result"
    }
   ],
   "source": [
    "articles.head(15)"
   ]
  },
  {
   "cell_type": "markdown",
   "metadata": {},
   "source": [
    "This dataset is from Kaggle.com. The dataset contains news articles from 2015 related to business and sports. It contains 4 coulmns, 'Article': which contains the actuale article, 'Date': referes to the date the article was written, 'Heading': The heading of the article, 'NewsType': weather or not if the article is about business or sports. "
   ]
  },
  {
   "cell_type": "code",
   "execution_count": 4,
   "metadata": {},
   "outputs": [
    {
     "data": {
      "text/html": [
       "<div>\n",
       "<style scoped>\n",
       "    .dataframe tbody tr th:only-of-type {\n",
       "        vertical-align: middle;\n",
       "    }\n",
       "\n",
       "    .dataframe tbody tr th {\n",
       "        vertical-align: top;\n",
       "    }\n",
       "\n",
       "    .dataframe thead th {\n",
       "        text-align: right;\n",
       "    }\n",
       "</style>\n",
       "<table border=\"1\" class=\"dataframe\">\n",
       "  <thead>\n",
       "    <tr style=\"text-align: right;\">\n",
       "      <th></th>\n",
       "      <th>Article</th>\n",
       "      <th>Date</th>\n",
       "      <th>Heading</th>\n",
       "      <th>NewsType</th>\n",
       "    </tr>\n",
       "  </thead>\n",
       "  <tbody>\n",
       "    <tr>\n",
       "      <th>count</th>\n",
       "      <td>2692</td>\n",
       "      <td>2692</td>\n",
       "      <td>2692</td>\n",
       "      <td>2692</td>\n",
       "    </tr>\n",
       "    <tr>\n",
       "      <th>unique</th>\n",
       "      <td>2584</td>\n",
       "      <td>666</td>\n",
       "      <td>2581</td>\n",
       "      <td>2</td>\n",
       "    </tr>\n",
       "    <tr>\n",
       "      <th>top</th>\n",
       "      <td>strong&gt;ISLAMABAD: The International Monetary F...</td>\n",
       "      <td>8/1/2016</td>\n",
       "      <td>Pakistan will be among top 10 emerging markets...</td>\n",
       "      <td>sports</td>\n",
       "    </tr>\n",
       "    <tr>\n",
       "      <th>freq</th>\n",
       "      <td>5</td>\n",
       "      <td>27</td>\n",
       "      <td>5</td>\n",
       "      <td>1408</td>\n",
       "    </tr>\n",
       "  </tbody>\n",
       "</table>\n",
       "</div>"
      ],
      "text/plain": [
       "                                                  Article      Date  \\\n",
       "count                                                2692      2692   \n",
       "unique                                               2584       666   \n",
       "top     strong>ISLAMABAD: The International Monetary F...  8/1/2016   \n",
       "freq                                                    5        27   \n",
       "\n",
       "                                                  Heading NewsType  \n",
       "count                                                2692     2692  \n",
       "unique                                               2581        2  \n",
       "top     Pakistan will be among top 10 emerging markets...   sports  \n",
       "freq                                                    5     1408  "
      ]
     },
     "execution_count": 4,
     "metadata": {},
     "output_type": "execute_result"
    }
   ],
   "source": [
    "#check the attributes of the dataset \n",
    "articles.describe()"
   ]
  },
  {
   "cell_type": "markdown",
   "metadata": {},
   "source": []
  },
  {
   "cell_type": "code",
   "execution_count": 5,
   "metadata": {},
   "outputs": [
    {
     "data": {
      "text/html": [
       "<div>\n",
       "<style scoped>\n",
       "    .dataframe tbody tr th:only-of-type {\n",
       "        vertical-align: middle;\n",
       "    }\n",
       "\n",
       "    .dataframe tbody tr th {\n",
       "        vertical-align: top;\n",
       "    }\n",
       "\n",
       "    .dataframe thead th {\n",
       "        text-align: right;\n",
       "    }\n",
       "</style>\n",
       "<table border=\"1\" class=\"dataframe\">\n",
       "  <thead>\n",
       "    <tr style=\"text-align: right;\">\n",
       "      <th></th>\n",
       "      <th>Article</th>\n",
       "      <th>Heading</th>\n",
       "      <th>NewsType</th>\n",
       "    </tr>\n",
       "  </thead>\n",
       "  <tbody>\n",
       "    <tr>\n",
       "      <th>2672</th>\n",
       "      <td>strong&gt;Growth of sharia-compliant investment f...</td>\n",
       "      <td>Investment inflows spur Pakistans corporate su...</td>\n",
       "      <td>business</td>\n",
       "    </tr>\n",
       "    <tr>\n",
       "      <th>2673</th>\n",
       "      <td>Prime Minister Nawaz Sharif has proposed estab...</td>\n",
       "      <td>PM Nawaz proposes establishment of Pakistan Ku...</td>\n",
       "      <td>business</td>\n",
       "    </tr>\n",
       "    <tr>\n",
       "      <th>2674</th>\n",
       "      <td>strong&gt;BEIJING: With related major energy and ...</td>\n",
       "      <td>CPEC becomes center point of transit trade rou</td>\n",
       "      <td>business</td>\n",
       "    </tr>\n",
       "    <tr>\n",
       "      <th>2675</th>\n",
       "      <td>strong&gt;KUWAIT CITY: Kuwait is building one of ...</td>\n",
       "      <td>Kuwait Silk Road massive causeway</td>\n",
       "      <td>business</td>\n",
       "    </tr>\n",
       "    <tr>\n",
       "      <th>2676</th>\n",
       "      <td>MOSCOW: Russia and Turkey signed a memorandum ...</td>\n",
       "      <td>Russia Turkey create investment fund for up 1 ...</td>\n",
       "      <td>business</td>\n",
       "    </tr>\n",
       "    <tr>\n",
       "      <th>2677</th>\n",
       "      <td>strong&gt;BEIJING: Dasu hydroelectric power proje...</td>\n",
       "      <td>Dasu hydroelectric project modernize energy se...</td>\n",
       "      <td>business</td>\n",
       "    </tr>\n",
       "    <tr>\n",
       "      <th>2678</th>\n",
       "      <td>strong&gt;Oil prices dropped to their lowest in t...</td>\n",
       "      <td>Oil prices hit three month low as US rig count...</td>\n",
       "      <td>business</td>\n",
       "    </tr>\n",
       "    <tr>\n",
       "      <th>2679</th>\n",
       "      <td>strong&gt;WASHINGTON: A company owned by the fami...</td>\n",
       "      <td>Trump son in law 4 bn deal Chinese company</td>\n",
       "      <td>business</td>\n",
       "    </tr>\n",
       "    <tr>\n",
       "      <th>2680</th>\n",
       "      <td>strong&gt;RIYADH: Saudi Arabia is committed to st...</td>\n",
       "      <td>Saudi says committed to oil market stability</td>\n",
       "      <td>business</td>\n",
       "    </tr>\n",
       "    <tr>\n",
       "      <th>2681</th>\n",
       "      <td>strong&gt;BEIJING: The Xinjiang Uygur autonomous ...</td>\n",
       "      <td>CPEC China approves huge infrastructure projec...</td>\n",
       "      <td>business</td>\n",
       "    </tr>\n",
       "    <tr>\n",
       "      <th>2682</th>\n",
       "      <td>strong&gt;BEIJING: Beijing's last large coal-fire...</td>\n",
       "      <td>Beijing becomes Chinas first city with all cle...</td>\n",
       "      <td>business</td>\n",
       "    </tr>\n",
       "    <tr>\n",
       "      <th>2683</th>\n",
       "      <td>strong&gt;WASHINGTON: The World Bank on Sunday an...</td>\n",
       "      <td>World Bank announces 57 bln in financing for Afri</td>\n",
       "      <td>business</td>\n",
       "    </tr>\n",
       "    <tr>\n",
       "      <th>2684</th>\n",
       "      <td>strong&gt;LONDON: Arcelik, the home appliances ar...</td>\n",
       "      <td>For Turkish giant Arcelik Pakistan is among fo...</td>\n",
       "      <td>business</td>\n",
       "    </tr>\n",
       "    <tr>\n",
       "      <th>2685</th>\n",
       "      <td>strong&gt;RIYADH/DUBAI: Saudi Arabia plans to tig...</td>\n",
       "      <td>Saudis to tighten curbs on foreign workers in ...</td>\n",
       "      <td>business</td>\n",
       "    </tr>\n",
       "    <tr>\n",
       "      <th>2686</th>\n",
       "      <td>strong&gt;BEIJING: A Chinese rail company has won...</td>\n",
       "      <td>Chinese train manufacturer wins railcar bid in US</td>\n",
       "      <td>business</td>\n",
       "    </tr>\n",
       "    <tr>\n",
       "      <th>2687</th>\n",
       "      <td>strong&gt;DUBAI: Dubai International Airport and ...</td>\n",
       "      <td>Laptop ban hits Dubai for 11m weekend traveller</td>\n",
       "      <td>business</td>\n",
       "    </tr>\n",
       "    <tr>\n",
       "      <th>2688</th>\n",
       "      <td>strong&gt;BEIJING: Former Prime Minister, Shaukat...</td>\n",
       "      <td>Pak China relations not against any third coun...</td>\n",
       "      <td>business</td>\n",
       "    </tr>\n",
       "    <tr>\n",
       "      <th>2689</th>\n",
       "      <td>strong&gt;WASHINGTON: Uber has grounded its fleet...</td>\n",
       "      <td>Uber grounds self driving cars after accid</td>\n",
       "      <td>business</td>\n",
       "    </tr>\n",
       "    <tr>\n",
       "      <th>2690</th>\n",
       "      <td>strong&gt;BEIJING: The New Development Bank plans...</td>\n",
       "      <td>New Development Bank plans joint investments i...</td>\n",
       "      <td>business</td>\n",
       "    </tr>\n",
       "    <tr>\n",
       "      <th>2691</th>\n",
       "      <td>strong&gt;KARACHI: Karachi-based technology incub...</td>\n",
       "      <td>Google powered Startup Weekend energizing prou...</td>\n",
       "      <td>business</td>\n",
       "    </tr>\n",
       "  </tbody>\n",
       "</table>\n",
       "</div>"
      ],
      "text/plain": [
       "                                                Article  \\\n",
       "2672  strong>Growth of sharia-compliant investment f...   \n",
       "2673  Prime Minister Nawaz Sharif has proposed estab...   \n",
       "2674  strong>BEIJING: With related major energy and ...   \n",
       "2675  strong>KUWAIT CITY: Kuwait is building one of ...   \n",
       "2676  MOSCOW: Russia and Turkey signed a memorandum ...   \n",
       "2677  strong>BEIJING: Dasu hydroelectric power proje...   \n",
       "2678  strong>Oil prices dropped to their lowest in t...   \n",
       "2679  strong>WASHINGTON: A company owned by the fami...   \n",
       "2680  strong>RIYADH: Saudi Arabia is committed to st...   \n",
       "2681  strong>BEIJING: The Xinjiang Uygur autonomous ...   \n",
       "2682  strong>BEIJING: Beijing's last large coal-fire...   \n",
       "2683  strong>WASHINGTON: The World Bank on Sunday an...   \n",
       "2684  strong>LONDON: Arcelik, the home appliances ar...   \n",
       "2685  strong>RIYADH/DUBAI: Saudi Arabia plans to tig...   \n",
       "2686  strong>BEIJING: A Chinese rail company has won...   \n",
       "2687  strong>DUBAI: Dubai International Airport and ...   \n",
       "2688  strong>BEIJING: Former Prime Minister, Shaukat...   \n",
       "2689  strong>WASHINGTON: Uber has grounded its fleet...   \n",
       "2690  strong>BEIJING: The New Development Bank plans...   \n",
       "2691  strong>KARACHI: Karachi-based technology incub...   \n",
       "\n",
       "                                                Heading  NewsType  \n",
       "2672  Investment inflows spur Pakistans corporate su...  business  \n",
       "2673  PM Nawaz proposes establishment of Pakistan Ku...  business  \n",
       "2674     CPEC becomes center point of transit trade rou  business  \n",
       "2675                  Kuwait Silk Road massive causeway  business  \n",
       "2676  Russia Turkey create investment fund for up 1 ...  business  \n",
       "2677  Dasu hydroelectric project modernize energy se...  business  \n",
       "2678  Oil prices hit three month low as US rig count...  business  \n",
       "2679         Trump son in law 4 bn deal Chinese company  business  \n",
       "2680       Saudi says committed to oil market stability  business  \n",
       "2681  CPEC China approves huge infrastructure projec...  business  \n",
       "2682  Beijing becomes Chinas first city with all cle...  business  \n",
       "2683  World Bank announces 57 bln in financing for Afri  business  \n",
       "2684  For Turkish giant Arcelik Pakistan is among fo...  business  \n",
       "2685  Saudis to tighten curbs on foreign workers in ...  business  \n",
       "2686  Chinese train manufacturer wins railcar bid in US  business  \n",
       "2687    Laptop ban hits Dubai for 11m weekend traveller  business  \n",
       "2688  Pak China relations not against any third coun...  business  \n",
       "2689         Uber grounds self driving cars after accid  business  \n",
       "2690  New Development Bank plans joint investments i...  business  \n",
       "2691  Google powered Startup Weekend energizing prou...  business  "
      ]
     },
     "execution_count": 5,
     "metadata": {},
     "output_type": "execute_result"
    }
   ],
   "source": [
    "articles = articles.drop(\"Date\", axis = 1)\n",
    "#drop the date column. It is not useful \n",
    "articles.tail(20)"
   ]
  },
  {
   "cell_type": "code",
   "execution_count": 6,
   "metadata": {},
   "outputs": [
    {
     "name": "stdout",
     "output_type": "stream",
     "text": [
      "                                             Article  \\\n",
      "0  KARACHI: The Sindh government has decided to b...   \n",
      "1  HONG KONG: Asian markets started 2015 on an up...   \n",
      "2  HONG KONG:  Hong Kong shares opened 0.66 perce...   \n",
      "3  HONG KONG: Asian markets tumbled Tuesday follo...   \n",
      "4  NEW YORK: US oil prices Monday slipped below $...   \n",
      "\n",
      "                                             Heading  NewsType  \\\n",
      "0  sindh govt decides to cut public transport far...  business   \n",
      "1                    asia stocks up in new year trad  business   \n",
      "2           hong kong stocks open 0.66 percent lower  business   \n",
      "3             asian stocks sink euro near nine year   business   \n",
      "4                 us oil prices slip below 50 a barr  business   \n",
      "\n",
      "   heading_word_count  article_word_count  \n",
      "0                  12                 130  \n",
      "1                   7                 760  \n",
      "2                   7                  39  \n",
      "3                   8                 547  \n",
      "4                   8                 630  \n",
      "Word Count AVGs: article_word_count    292.779718\n",
      "heading_word_count      8.219168\n",
      "dtype: float64\n"
     ]
    }
   ],
   "source": [
    "#check the word count of each heading and article \n",
    "articles['heading_word_count'] = articles['Heading'].apply(lambda x: len(str(x).split(\" \")))\n",
    "articles['article_word_count'] = articles['Article'].apply(lambda x: len(str(x).split(\" \")))\n",
    "print(articles.head())\n",
    "print('Word Count AVGs:', articles[['article_word_count','heading_word_count' ]].mean())"
   ]
  },
  {
   "cell_type": "code",
   "execution_count": 265,
   "metadata": {},
   "outputs": [
    {
     "name": "stdout",
     "output_type": "stream",
     "text": [
      "Char Count AVGs: heading_char_count    1810.019688\n",
      "article_char_count      47.109955\n",
      "dtype: float64\n"
     ]
    }
   ],
   "source": [
    "#check the Character count for headings and articles \n",
    "articles['heading_char_count'] = articles['Article'].str.len() ## this also includes spaces\n",
    "articles['article_char_count'] = articles['Heading'].str.len()\n",
    "print('Char Count AVGs:', articles[['heading_char_count','article_char_count' ]].mean())"
   ]
  },
  {
   "cell_type": "code",
   "execution_count": 8,
   "metadata": {},
   "outputs": [
    {
     "data": {
      "text/html": [
       "<div>\n",
       "<style scoped>\n",
       "    .dataframe tbody tr th:only-of-type {\n",
       "        vertical-align: middle;\n",
       "    }\n",
       "\n",
       "    .dataframe tbody tr th {\n",
       "        vertical-align: top;\n",
       "    }\n",
       "\n",
       "    .dataframe thead th {\n",
       "        text-align: right;\n",
       "    }\n",
       "</style>\n",
       "<table border=\"1\" class=\"dataframe\">\n",
       "  <thead>\n",
       "    <tr style=\"text-align: right;\">\n",
       "      <th></th>\n",
       "      <th>Article</th>\n",
       "      <th>Heading</th>\n",
       "      <th>NewsType</th>\n",
       "      <th>heading_word_count</th>\n",
       "      <th>article_word_count</th>\n",
       "      <th>heading_char_count</th>\n",
       "      <th>article_char_count</th>\n",
       "    </tr>\n",
       "  </thead>\n",
       "  <tbody>\n",
       "    <tr>\n",
       "      <th>0</th>\n",
       "      <td>KARACHI: The Sindh government has decided to b...</td>\n",
       "      <td>sindh govt decides to cut public transport far...</td>\n",
       "      <td>business</td>\n",
       "      <td>12</td>\n",
       "      <td>130</td>\n",
       "      <td>727</td>\n",
       "      <td>63</td>\n",
       "    </tr>\n",
       "    <tr>\n",
       "      <th>1</th>\n",
       "      <td>HONG KONG: Asian markets started 2015 on an up...</td>\n",
       "      <td>asia stocks up in new year trad</td>\n",
       "      <td>business</td>\n",
       "      <td>7</td>\n",
       "      <td>760</td>\n",
       "      <td>4820</td>\n",
       "      <td>31</td>\n",
       "    </tr>\n",
       "    <tr>\n",
       "      <th>2</th>\n",
       "      <td>HONG KONG:  Hong Kong shares opened 0.66 perce...</td>\n",
       "      <td>hong kong stocks open 0.66 percent lower</td>\n",
       "      <td>business</td>\n",
       "      <td>7</td>\n",
       "      <td>39</td>\n",
       "      <td>240</td>\n",
       "      <td>40</td>\n",
       "    </tr>\n",
       "    <tr>\n",
       "      <th>3</th>\n",
       "      <td>HONG KONG: Asian markets tumbled Tuesday follo...</td>\n",
       "      <td>asian stocks sink euro near nine year</td>\n",
       "      <td>business</td>\n",
       "      <td>8</td>\n",
       "      <td>547</td>\n",
       "      <td>3257</td>\n",
       "      <td>38</td>\n",
       "    </tr>\n",
       "    <tr>\n",
       "      <th>4</th>\n",
       "      <td>NEW YORK: US oil prices Monday slipped below $...</td>\n",
       "      <td>us oil prices slip below 50 a barr</td>\n",
       "      <td>business</td>\n",
       "      <td>8</td>\n",
       "      <td>630</td>\n",
       "      <td>3782</td>\n",
       "      <td>34</td>\n",
       "    </tr>\n",
       "  </tbody>\n",
       "</table>\n",
       "</div>"
      ],
      "text/plain": [
       "                                             Article  \\\n",
       "0  KARACHI: The Sindh government has decided to b...   \n",
       "1  HONG KONG: Asian markets started 2015 on an up...   \n",
       "2  HONG KONG:  Hong Kong shares opened 0.66 perce...   \n",
       "3  HONG KONG: Asian markets tumbled Tuesday follo...   \n",
       "4  NEW YORK: US oil prices Monday slipped below $...   \n",
       "\n",
       "                                             Heading  NewsType  \\\n",
       "0  sindh govt decides to cut public transport far...  business   \n",
       "1                    asia stocks up in new year trad  business   \n",
       "2           hong kong stocks open 0.66 percent lower  business   \n",
       "3             asian stocks sink euro near nine year   business   \n",
       "4                 us oil prices slip below 50 a barr  business   \n",
       "\n",
       "   heading_word_count  article_word_count  heading_char_count  \\\n",
       "0                  12                 130                 727   \n",
       "1                   7                 760                4820   \n",
       "2                   7                  39                 240   \n",
       "3                   8                 547                3257   \n",
       "4                   8                 630                3782   \n",
       "\n",
       "   article_char_count  \n",
       "0                  63  \n",
       "1                  31  \n",
       "2                  40  \n",
       "3                  38  \n",
       "4                  34  "
      ]
     },
     "execution_count": 8,
     "metadata": {},
     "output_type": "execute_result"
    }
   ],
   "source": [
    "articles.head()"
   ]
  },
  {
   "cell_type": "code",
   "execution_count": 9,
   "metadata": {},
   "outputs": [
    {
     "data": {
      "text/html": [
       "<div>\n",
       "<style scoped>\n",
       "    .dataframe tbody tr th:only-of-type {\n",
       "        vertical-align: middle;\n",
       "    }\n",
       "\n",
       "    .dataframe tbody tr th {\n",
       "        vertical-align: top;\n",
       "    }\n",
       "\n",
       "    .dataframe thead th {\n",
       "        text-align: right;\n",
       "    }\n",
       "</style>\n",
       "<table border=\"1\" class=\"dataframe\">\n",
       "  <thead>\n",
       "    <tr style=\"text-align: right;\">\n",
       "      <th></th>\n",
       "      <th>Article</th>\n",
       "      <th>Heading</th>\n",
       "      <th>NewsType</th>\n",
       "      <th>heading_word_count</th>\n",
       "      <th>article_word_count</th>\n",
       "      <th>heading_char_count</th>\n",
       "      <th>article_char_count</th>\n",
       "      <th>heading_avg_word_len</th>\n",
       "      <th>article_avg_word_len</th>\n",
       "    </tr>\n",
       "  </thead>\n",
       "  <tbody>\n",
       "    <tr>\n",
       "      <th>0</th>\n",
       "      <td>KARACHI: The Sindh government has decided to b...</td>\n",
       "      <td>sindh govt decides to cut public transport far...</td>\n",
       "      <td>business</td>\n",
       "      <td>12</td>\n",
       "      <td>130</td>\n",
       "      <td>727</td>\n",
       "      <td>63</td>\n",
       "      <td>4.333333</td>\n",
       "      <td>4.333333</td>\n",
       "    </tr>\n",
       "    <tr>\n",
       "      <th>1</th>\n",
       "      <td>HONG KONG: Asian markets started 2015 on an up...</td>\n",
       "      <td>asia stocks up in new year trad</td>\n",
       "      <td>business</td>\n",
       "      <td>7</td>\n",
       "      <td>760</td>\n",
       "      <td>4820</td>\n",
       "      <td>31</td>\n",
       "      <td>3.571429</td>\n",
       "      <td>3.571429</td>\n",
       "    </tr>\n",
       "    <tr>\n",
       "      <th>2</th>\n",
       "      <td>HONG KONG:  Hong Kong shares opened 0.66 perce...</td>\n",
       "      <td>hong kong stocks open 0.66 percent lower</td>\n",
       "      <td>business</td>\n",
       "      <td>7</td>\n",
       "      <td>39</td>\n",
       "      <td>240</td>\n",
       "      <td>40</td>\n",
       "      <td>4.857143</td>\n",
       "      <td>4.857143</td>\n",
       "    </tr>\n",
       "    <tr>\n",
       "      <th>3</th>\n",
       "      <td>HONG KONG: Asian markets tumbled Tuesday follo...</td>\n",
       "      <td>asian stocks sink euro near nine year</td>\n",
       "      <td>business</td>\n",
       "      <td>8</td>\n",
       "      <td>547</td>\n",
       "      <td>3257</td>\n",
       "      <td>38</td>\n",
       "      <td>4.428571</td>\n",
       "      <td>4.428571</td>\n",
       "    </tr>\n",
       "    <tr>\n",
       "      <th>4</th>\n",
       "      <td>NEW YORK: US oil prices Monday slipped below $...</td>\n",
       "      <td>us oil prices slip below 50 a barr</td>\n",
       "      <td>business</td>\n",
       "      <td>8</td>\n",
       "      <td>630</td>\n",
       "      <td>3782</td>\n",
       "      <td>34</td>\n",
       "      <td>3.375000</td>\n",
       "      <td>3.375000</td>\n",
       "    </tr>\n",
       "  </tbody>\n",
       "</table>\n",
       "</div>"
      ],
      "text/plain": [
       "                                             Article  \\\n",
       "0  KARACHI: The Sindh government has decided to b...   \n",
       "1  HONG KONG: Asian markets started 2015 on an up...   \n",
       "2  HONG KONG:  Hong Kong shares opened 0.66 perce...   \n",
       "3  HONG KONG: Asian markets tumbled Tuesday follo...   \n",
       "4  NEW YORK: US oil prices Monday slipped below $...   \n",
       "\n",
       "                                             Heading  NewsType  \\\n",
       "0  sindh govt decides to cut public transport far...  business   \n",
       "1                    asia stocks up in new year trad  business   \n",
       "2           hong kong stocks open 0.66 percent lower  business   \n",
       "3             asian stocks sink euro near nine year   business   \n",
       "4                 us oil prices slip below 50 a barr  business   \n",
       "\n",
       "   heading_word_count  article_word_count  heading_char_count  \\\n",
       "0                  12                 130                 727   \n",
       "1                   7                 760                4820   \n",
       "2                   7                  39                 240   \n",
       "3                   8                 547                3257   \n",
       "4                   8                 630                3782   \n",
       "\n",
       "   article_char_count  heading_avg_word_len  article_avg_word_len  \n",
       "0                  63              4.333333              4.333333  \n",
       "1                  31              3.571429              3.571429  \n",
       "2                  40              4.857143              4.857143  \n",
       "3                  38              4.428571              4.428571  \n",
       "4                  34              3.375000              3.375000  "
      ]
     },
     "execution_count": 9,
     "metadata": {},
     "output_type": "execute_result"
    }
   ],
   "source": [
    "#check the average word length of each article \n",
    "def avg_word_len (sentence):\n",
    "    '''takes the average length of the words within each row'''\n",
    "    words = sentence.split()\n",
    "    return(sum(len(word) for word in words)/len(words))\n",
    "articles['heading_avg_word_len'] = articles['Heading'].apply(lambda x: avg_word_len(x))\n",
    "articles['article_avg_word_len'] = articles['Heading'].apply(lambda x: avg_word_len(x))\n",
    "articles.head()"
   ]
  },
  {
   "cell_type": "code",
   "execution_count": 266,
   "metadata": {},
   "outputs": [
    {
     "data": {
      "text/html": [
       "<div>\n",
       "<style scoped>\n",
       "    .dataframe tbody tr th:only-of-type {\n",
       "        vertical-align: middle;\n",
       "    }\n",
       "\n",
       "    .dataframe tbody tr th {\n",
       "        vertical-align: top;\n",
       "    }\n",
       "\n",
       "    .dataframe thead th {\n",
       "        text-align: right;\n",
       "    }\n",
       "</style>\n",
       "<table border=\"1\" class=\"dataframe\">\n",
       "  <thead>\n",
       "    <tr style=\"text-align: right;\">\n",
       "      <th></th>\n",
       "      <th>heading_stopwords</th>\n",
       "      <th>article_stopwords</th>\n",
       "    </tr>\n",
       "  </thead>\n",
       "  <tbody>\n",
       "    <tr>\n",
       "      <th>0</th>\n",
       "      <td>2</td>\n",
       "      <td>35</td>\n",
       "    </tr>\n",
       "    <tr>\n",
       "      <th>1</th>\n",
       "      <td>2</td>\n",
       "      <td>204</td>\n",
       "    </tr>\n",
       "    <tr>\n",
       "      <th>2</th>\n",
       "      <td>0</td>\n",
       "      <td>7</td>\n",
       "    </tr>\n",
       "    <tr>\n",
       "      <th>3</th>\n",
       "      <td>0</td>\n",
       "      <td>173</td>\n",
       "    </tr>\n",
       "    <tr>\n",
       "      <th>4</th>\n",
       "      <td>2</td>\n",
       "      <td>192</td>\n",
       "    </tr>\n",
       "  </tbody>\n",
       "</table>\n",
       "</div>"
      ],
      "text/plain": [
       "   heading_stopwords  article_stopwords\n",
       "0                  2                 35\n",
       "1                  2                204\n",
       "2                  0                  7\n",
       "3                  0                173\n",
       "4                  2                192"
      ]
     },
     "execution_count": 266,
     "metadata": {},
     "output_type": "execute_result"
    }
   ],
   "source": [
    "#Check the how many stop words each column has \n",
    "import nltk\n",
    "from nltk.corpus import stopwords\n",
    "stop = stopwords.words('english')\n",
    "\n",
    "articles['heading_stopwords'] = articles['Heading'].apply(lambda x: len([x for x in x.split() if x in stop]))\n",
    "articles['article_stopwords'] = articles['Article'].apply(lambda x: len([x for x in x.split() if x in stop]))\n",
    "articles[['heading_stopwords','article_stopwords' ]].head()"
   ]
  },
  {
   "cell_type": "markdown",
   "metadata": {},
   "source": [
    "After inital exploration of the data, it is time to plot the data to get a visual representation. "
   ]
  },
  {
   "cell_type": "markdown",
   "metadata": {},
   "source": [
    "### Visualize "
   ]
  },
  {
   "cell_type": "code",
   "execution_count": 11,
   "metadata": {},
   "outputs": [
    {
     "data": {
      "image/png": "[encoded data removed]",
      "text/plain": [
       "<Figure size 1440x720 with 2 Axes>"
      ]
     },
     "metadata": {},
     "output_type": "display_data"
    }
   ],
   "source": [
    "# plot the distrabutions of the artical and heading word count.\n",
    "sns.set()\n",
    "f, axes = plt.subplots(1, 2, figsize=(20, 10), sharex=False)\n",
    "sns.distplot(articles['article_word_count'], color='skyblue', label='article word count', ax=axes[0])\n",
    "sns.distplot(articles['heading_word_count'], color='red', label='article word count',ax=axes[1])\n",
    "\n",
    "\n",
    "plt.show()\n",
    "\n",
    "\n",
    "\n"
   ]
  },
  {
   "cell_type": "code",
   "execution_count": 12,
   "metadata": {},
   "outputs": [
    {
     "data": {
      "text/plain": [
       "Text(0.5, 1.0, 'Character count distrabution')"
      ]
     },
     "execution_count": 12,
     "metadata": {},
     "output_type": "execute_result"
    },
    {
     "data": {
      "image/png": "[encoded data removed]",
      "text/plain": [
       "<Figure size 1440x720 with 2 Axes>"
      ]
     },
     "metadata": {},
     "output_type": "display_data"
    }
   ],
   "source": [
    "#plot the distrabution of article and heading character count \n",
    "f, axes = plt.subplots(1, 2, figsize=(20, 10), sharex=False)\n",
    "sns.distplot(articles['article_char_count'], color='skyblue', label='article word count',ax=axes[0])\n",
    "sns.distplot(articles['heading_char_count'], color='red', label='article word count',ax=axes[1])\n",
    "plt.title('Character count distrabution')"
   ]
  },
  {
   "cell_type": "markdown",
   "metadata": {},
   "source": [
    "article word count seems to be skewed to the left and heading word count has a normal distrabution.\n",
    "It is the opposite for character count.\n",
    "\n",
    "Next, I will be plotting 'NewsType'."
   ]
  },
  {
   "cell_type": "code",
   "execution_count": 267,
   "metadata": {},
   "outputs": [
    {
     "data": {
      "text/plain": [
       "Text(0.5, 22.960000000000015, 'Article Character Count')"
      ]
     },
     "execution_count": 267,
     "metadata": {},
     "output_type": "execute_result"
    },
    {
     "data": {
      "image/png": "[encoded data removed]",
      "text/plain": [
       "<Figure size 442.85x360 with 1 Axes>"
      ]
     },
     "metadata": {},
     "output_type": "display_data"
    }
   ],
   "source": [
    "#plot the heading character count for business articles vs sports articles \n",
    "sns.lmplot(x='article_char_count', y='heading_char_count', data = articles,\n",
    "          fit_reg=False, hue = 'NewsType')\n",
    "plt.ylim(0,None)\n",
    "plt.xlim(0,None)\n",
    "plt.title('News Type Character Count')\n",
    "plt.ylabel('Heading Character Count')\n",
    "plt.xlabel('Article Character Count')"
   ]
  },
  {
   "cell_type": "code",
   "execution_count": 269,
   "metadata": {},
   "outputs": [
    {
     "data": {
      "text/plain": [
       "Text(0.5, 1.0, 'Article vs Heading word count')"
      ]
     },
     "execution_count": 269,
     "metadata": {},
     "output_type": "execute_result"
    },
    {
     "data": {
      "image/png": "[encoded data removed]",
      "text/plain": [
       "<Figure size 442.85x360 with 1 Axes>"
      ]
     },
     "metadata": {},
     "output_type": "display_data"
    }
   ],
   "source": [
    "sns.lmplot(x='heading_word_count', y='article_word_count', data = articles,\n",
    "          fit_reg=False, hue = 'NewsType')\n",
    "plt.title('Article vs Heading word count')"
   ]
  },
  {
   "cell_type": "code",
   "execution_count": 270,
   "metadata": {},
   "outputs": [
    {
     "data": {
      "text/plain": [
       "Text(0.5, 1.0, 'Article word count by News Type')"
      ]
     },
     "execution_count": 270,
     "metadata": {},
     "output_type": "execute_result"
    },
    {
     "data": {
      "image/png": "[encoded data removed]",
      "text/plain": [
       "<Figure size 432x288 with 1 Axes>"
      ]
     },
     "metadata": {},
     "output_type": "display_data"
    }
   ],
   "source": [
    "#plot article word count by News Type \n",
    "sns.swarmplot(x='NewsType', y='article_word_count',data=articles)\n",
    "plt.title('Article word count by News Type')"
   ]
  },
  {
   "cell_type": "code",
   "execution_count": 271,
   "metadata": {},
   "outputs": [
    {
     "data": {
      "text/plain": [
       "Text(0.5, 1.0, 'Heading word count by News Type')"
      ]
     },
     "execution_count": 271,
     "metadata": {},
     "output_type": "execute_result"
    },
    {
     "data": {
      "image/png": "[encoded data removed]",
      "text/plain": [
       "<Figure size 432x288 with 1 Axes>"
      ]
     },
     "metadata": {},
     "output_type": "display_data"
    }
   ],
   "source": [
    "#plot heading word count by News Type \n",
    "sns.swarmplot(x='NewsType', y='heading_word_count',data=articles)\n",
    "plt.title('Heading word count by News Type')"
   ]
  },
  {
   "cell_type": "markdown",
   "metadata": {},
   "source": [
    "All of the data seems to be very similar. Note: There are a few outliers in the Buisness Heading word count.\n",
    "\n",
    "After exploring the data, it is time for preprocessing. \n",
    "\n",
    "## Preprocessing "
   ]
  },
  {
   "cell_type": "code",
   "execution_count": 248,
   "metadata": {},
   "outputs": [
    {
     "data": {
      "text/plain": [
       "0       1\n",
       "1       1\n",
       "2       1\n",
       "3       1\n",
       "4       1\n",
       "5       1\n",
       "6       1\n",
       "7       1\n",
       "8       1\n",
       "9       1\n",
       "10      1\n",
       "11      1\n",
       "12      1\n",
       "13      1\n",
       "14      1\n",
       "15      1\n",
       "16      1\n",
       "17      1\n",
       "18      1\n",
       "19      1\n",
       "20      1\n",
       "21      1\n",
       "22      1\n",
       "23      1\n",
       "24      1\n",
       "25      1\n",
       "26      1\n",
       "27      1\n",
       "28      1\n",
       "29      1\n",
       "       ..\n",
       "2662    1\n",
       "2663    1\n",
       "2664    1\n",
       "2665    1\n",
       "2666    1\n",
       "2667    1\n",
       "2668    1\n",
       "2669    1\n",
       "2670    1\n",
       "2671    1\n",
       "2672    1\n",
       "2673    1\n",
       "2674    1\n",
       "2675    1\n",
       "2676    1\n",
       "2677    1\n",
       "2678    1\n",
       "2679    1\n",
       "2680    1\n",
       "2681    1\n",
       "2682    1\n",
       "2683    1\n",
       "2684    1\n",
       "2685    1\n",
       "2686    1\n",
       "2687    1\n",
       "2688    1\n",
       "2689    1\n",
       "2690    1\n",
       "2691    1\n",
       "Name: NewsType, Length: 2692, dtype: int64"
      ]
     },
     "execution_count": 248,
     "metadata": {},
     "output_type": "execute_result"
    }
   ],
   "source": [
    "#import neccssary libraries\n",
    "from sklearn.cluster import KMeans\n",
    "from sklearn.preprocessing import normalize\n",
    "from sklearn.decomposition import TruncatedSVD\n",
    "from sklearn.cluster import MiniBatchKMeans\n",
    "from sklearn.feature_extraction.text import TfidfVectorizer\n",
    "from sklearn.cluster import KMeans\n",
    "from sklearn.metrics import adjusted_rand_score\n",
    "from sklearn.model_selection import train_test_split\n",
    "from sklearn.feature_extraction.text import TfidfVectorizer\n",
    "vectorizer = TfidfVectorizer(stop_words='english')\n",
    "nlp = spacy.load('en')\n"
   ]
  },
  {
   "cell_type": "code",
   "execution_count": null,
   "metadata": {},
   "outputs": [],
   "source": [
    "#Apply Spacy to each article and heading within the data frame \n",
    "articles.dropna()\n",
    "articles['article_spacy'] = articles['article_after_colon']\n",
    "articles['heading_spacy'] = articles['Heading']\n",
    "articles['article_spacy'].apply(lambda x: nlp(x) if len(x) > 1 else None)\n",
    "articles['heading_spacy'].apply(lambda x: nlp(x) if len(x) > 1 else None)\n",
    "articles.head(20)"
   ]
  },
  {
   "cell_type": "code",
   "execution_count": null,
   "metadata": {},
   "outputs": [],
   "source": [
    "art_text = articles['article_after_colon']\n",
    "art_heading = articles['Heading']\n",
    "art_text.head()"
   ]
  },
  {
   "cell_type": "code",
   "execution_count": null,
   "metadata": {},
   "outputs": [],
   "source": [
    "# Apply Tf-idf to the articles & One Hot Encode News Type Column \n",
    "tdfif_article_x = vectorizer.fit_transform(articles['article_spacy'])\n",
    "tdfif_article_x\n",
    "\n",
    "tdfif_article_y = (articles['NewsType'] == 'business').astype(int)\n",
    "#changes NewsType Column to numeric \n",
    "tdfif_article_y"
   ]
  },
  {
   "cell_type": "code",
   "execution_count": null,
   "metadata": {},
   "outputs": [],
   "source": [
    "#check to see if there are any Null values \n",
    "articles[articles['article_after_colon'] == 'NoneType' ]"
   ]
  },
  {
   "cell_type": "code",
   "execution_count": 121,
   "metadata": {},
   "outputs": [],
   "source": [
    "# Split the data into train test samples Holding out 10% of the data for testing. 10% is used because the data set is so small\n",
    "tdfif_x_train, tdfif_x_test, tdfif_y_train, tdfif_y_test = train_test_split( tdfif_article_x,\n",
    "                                                                            tdfif_article_y, test_size=0.10, random_state=42)"
   ]
  },
  {
   "cell_type": "markdown",
   "metadata": {},
   "source": [
    "Time for modeling \n",
    "\n",
    "## Modeling "
   ]
  },
  {
   "cell_type": "code",
   "execution_count": 275,
   "metadata": {},
   "outputs": [],
   "source": [
    "#Apply K-Means Clustering to the dataset \n",
    "model = KMeans(n_clusters=3, init='k-means++', max_iter=100, n_init=1)\n",
    "model.fit(tdfif_x_train)\n",
    "tdfif_y_pred = model.predict(tdfif_x_test)"
   ]
  },
  {
   "cell_type": "markdown",
   "metadata": {},
   "source": [
    "To make plotting easier Truncated SVD is applied as feature reduction"
   ]
  },
  {
   "cell_type": "code",
   "execution_count": 276,
   "metadata": {},
   "outputs": [
    {
     "data": {
      "image/png": "[encoded data removed]",
      "text/plain": [
       "<Figure size 432x288 with 1 Axes>"
      ]
     },
     "metadata": {},
     "output_type": "display_data"
    },
    {
     "name": "stdout",
     "output_type": "stream",
     "text": [
      "Comparing k-means clusters against the data:\n",
      "NewsType   0   1\n",
      "row_0           \n",
      "0         87   0\n",
      "1         52  89\n",
      "2          0  42\n"
     ]
    }
   ],
   "source": [
    "X_tsvd = TruncatedSVD(2).fit_transform(tdfif_x_test)\n",
    "sns.scatterplot(X_tsvd [:, 0], X_tsvd [:, 1])\n",
    "plt.title('News Type Clustering')\n",
    "plt.show()\n",
    "print('Comparing k-means clusters against the data:')\n",
    "print(pd.crosstab(tdfif_y_pred, tdfif_y_test))\n"
   ]
  },
  {
   "cell_type": "markdown",
   "metadata": {},
   "source": [
    "K-Means performs poorly will try Mini Batch Kmeans "
   ]
  },
  {
   "cell_type": "code",
   "execution_count": 277,
   "metadata": {},
   "outputs": [
    {
     "name": "stdout",
     "output_type": "stream",
     "text": [
      "Comparing k-means and mini batch k-means solutions:\n",
      "col_0   0    1   2\n",
      "row_0             \n",
      "0       1  134   0\n",
      "1       0    3  42\n",
      "2      86    4   0\n"
     ]
    }
   ],
   "source": [
    "minibatchkmeans = MiniBatchKMeans(\n",
    "    init='random',\n",
    "    n_clusters=3,\n",
    "    batch_size=200)\n",
    "minibatchkmeans.fit(X_tsvd)\n",
    "\n",
    "# Add the new predicted cluster memberships to the data frame.\n",
    "predict_mini = minibatchkmeans.predict(X_tsvd)\n",
    "\n",
    "# Check the MiniBatch model against our earlier one.\n",
    "print('Comparing k-means and mini batch k-means solutions:')\n",
    "print(pd.crosstab(predict_mini, tdfif_y_pred))"
   ]
  },
  {
   "cell_type": "markdown",
   "metadata": {},
   "source": [
    "Try Mean Shift"
   ]
  },
  {
   "cell_type": "code",
   "execution_count": 187,
   "metadata": {},
   "outputs": [],
   "source": [
    "from sklearn.cluster import MeanShift, estimate_bandwidth"
   ]
  },
  {
   "cell_type": "code",
   "execution_count": 199,
   "metadata": {},
   "outputs": [
    {
     "name": "stdout",
     "output_type": "stream",
     "text": [
      "Number of estimated clusters: 1\n"
     ]
    }
   ],
   "source": [
    "# Here we set the bandwidth. This function automatically derives a bandwidth\n",
    "# number based on an inspection of the distances among points in the data.\n",
    "bandwidth = estimate_bandwidth(tdfif_x_train.toarray(), quantile=0.2, n_samples=500)\n",
    "\n",
    "# Declare and fit the model.\n",
    "ms = MeanShift(bandwidth=3, bin_seeding=True)\n",
    "ms.fit(tdfif_x_train.toarray())\n",
    "ms_y_predict = ms.predict(tdfif_x_test)\n",
    "\n",
    "# Extract cluster assignments for each data point.\n",
    "labels = ms.labels_\n",
    "\n",
    "# Coordinates of the cluster centers.\n",
    "cluster_centers = ms.cluster_centers_\n",
    "\n",
    "# Count our clusters.\n",
    "n_clusters_ = len(np.unique(labels))\n",
    "\n",
    "print(\"Number of estimated clusters: {}\".format(n_clusters_))\n",
    "\n"
   ]
  },
  {
   "cell_type": "code",
   "execution_count": null,
   "metadata": {},
   "outputs": [],
   "source": [
    "#plt.scatter(tdfif_x_train[:, 0], tdfif_x_train[:, 1])\n",
    "#plt.show()\n",
    "\n",
    "print('Comparing the assigned categories to the ones in the data:')\n",
    "print(pd.crosstab(ms_y_predict, tdfif_y_test))"
   ]
  },
  {
   "cell_type": "markdown",
   "metadata": {},
   "source": [
    "The Clustering doesnt seem to work out to well. Time to attempt supervised algorithms"
   ]
  },
  {
   "cell_type": "code",
   "execution_count": 217,
   "metadata": {},
   "outputs": [
    {
     "name": "stdout",
     "output_type": "stream",
     "text": [
      "Comparing the assigned categories to the ones in the data:\n",
      "col_0      0   1   2  3   4\n",
      "NewsType                   \n",
      "0         75   0  64  0   0\n",
      "1         83  19   0  2  27\n"
     ]
    }
   ],
   "source": [
    "from sklearn.cluster import SpectralClustering\n",
    "\n",
    "n_clusters=5\n",
    "\n",
    "# Declare and fit the model.\n",
    "sc = SpectralClustering(n_clusters=n_clusters)\n",
    "sc.fit(tdfif_x_train)\n",
    "\n",
    "#Predicted clusters.\n",
    "predict=sc.fit_predict(tdfif_x_test)\n",
    "\n",
    "\n",
    "print('Comparing the assigned categories to the ones in the data:')\n",
    "print(pd.crosstab(tdfif_y_test,predict))"
   ]
  },
  {
   "cell_type": "code",
   "execution_count": 218,
   "metadata": {},
   "outputs": [
    {
     "name": "stdout",
     "output_type": "stream",
     "text": [
      "Done\n",
      "Estimated number of clusters: 224\n"
     ]
    }
   ],
   "source": [
    "from sklearn.cluster import AffinityPropagation\n",
    "from sklearn import metrics\n",
    "#Apply Affinity propagation\n",
    "af = AffinityPropagation().fit(tdfif_x_train)\n",
    "print('Done')\n",
    "\n",
    "# Pull the number of clusters and cluster assignments for each data point.\n",
    "cluster_centers_indices = af.cluster_centers_indices_\n",
    "n_clusters_ = len(cluster_centers_indices)\n",
    "labels = af.labels_\n",
    "\n",
    "print('Estimated number of clusters: {}'.format(n_clusters_))"
   ]
  },
  {
   "cell_type": "markdown",
   "metadata": {},
   "source": [
    "Affinty propagation suggests that we use 224 clusters. I believe 224 clusters is to many."
   ]
  },
  {
   "cell_type": "code",
   "execution_count": 173,
   "metadata": {},
   "outputs": [
    {
     "name": "stdout",
     "output_type": "stream",
     "text": [
      "Top terms per cluster:\n",
      "Cluster 0:\n",
      " tons\n",
      " metric\n",
      " exports\n",
      " million\n",
      " period\n",
      " financial\n",
      " food\n",
      " valuing\n",
      " year\n",
      " exported\n",
      "Cluster 1:\n",
      " said\n",
      " pakistan\n",
      " percent\n",
      " oil\n",
      " england\n",
      " year\n",
      " test\n",
      " world\n",
      " cricket\n",
      " india\n"
     ]
    }
   ],
   "source": [
    "#print out the top ten words within clusters\n",
    "print(\"Top terms per cluster:\")\n",
    "order_centroids = model.cluster_centers_.argsort()[:, ::-1]\n",
    "terms = vectorizer.get_feature_names()\n",
    "for i in range(true_k):\n",
    "    print(\"Cluster %d:\" % i),\n",
    "    for ind in order_centroids[i, :10]:\n",
    "        print(' %s' % terms[ind]),\n",
    "    print"
   ]
  },
  {
   "cell_type": "markdown",
   "metadata": {},
   "source": [
    "## Supervised Modeling prep"
   ]
  },
  {
   "cell_type": "code",
   "execution_count": 227,
   "metadata": {},
   "outputs": [
    {
     "data": {
      "text/html": [
       "<div>\n",
       "<style scoped>\n",
       "    .dataframe tbody tr th:only-of-type {\n",
       "        vertical-align: middle;\n",
       "    }\n",
       "\n",
       "    .dataframe tbody tr th {\n",
       "        vertical-align: top;\n",
       "    }\n",
       "\n",
       "    .dataframe thead th {\n",
       "        text-align: right;\n",
       "    }\n",
       "</style>\n",
       "<table border=\"1\" class=\"dataframe\">\n",
       "  <thead>\n",
       "    <tr style=\"text-align: right;\">\n",
       "      <th></th>\n",
       "      <th>Article</th>\n",
       "      <th>Heading</th>\n",
       "      <th>NewsType</th>\n",
       "      <th>heading_word_count</th>\n",
       "      <th>article_word_count</th>\n",
       "      <th>heading_char_count</th>\n",
       "      <th>article_char_count</th>\n",
       "      <th>heading_avg_word_len</th>\n",
       "      <th>article_avg_word_len</th>\n",
       "      <th>heading_stopwords</th>\n",
       "      <th>article_stopwords</th>\n",
       "      <th>article_after_colon</th>\n",
       "      <th>article_spacy</th>\n",
       "      <th>heading_spacy</th>\n",
       "    </tr>\n",
       "  </thead>\n",
       "  <tbody>\n",
       "    <tr>\n",
       "      <th>0</th>\n",
       "      <td>KARACHI: The Sindh government has decided to b...</td>\n",
       "      <td>sindh govt decides to cut public transport far...</td>\n",
       "      <td>business</td>\n",
       "      <td>12</td>\n",
       "      <td>130</td>\n",
       "      <td>727</td>\n",
       "      <td>63</td>\n",
       "      <td>4.333333</td>\n",
       "      <td>4.333333</td>\n",
       "      <td>2</td>\n",
       "      <td>35</td>\n",
       "      <td>The Sindh government has decided to bring dow...</td>\n",
       "      <td>The Sindh government has decided to bring dow...</td>\n",
       "      <td>sindh govt decides to cut public transport far...</td>\n",
       "    </tr>\n",
       "    <tr>\n",
       "      <th>1</th>\n",
       "      <td>HONG KONG: Asian markets started 2015 on an up...</td>\n",
       "      <td>asia stocks up in new year trad</td>\n",
       "      <td>business</td>\n",
       "      <td>7</td>\n",
       "      <td>760</td>\n",
       "      <td>4820</td>\n",
       "      <td>31</td>\n",
       "      <td>3.571429</td>\n",
       "      <td>3.571429</td>\n",
       "      <td>2</td>\n",
       "      <td>204</td>\n",
       "      <td>Asian markets started 2015 on an upswing in l...</td>\n",
       "      <td>Asian markets started 2015 on an upswing in l...</td>\n",
       "      <td>asia stocks up in new year trad</td>\n",
       "    </tr>\n",
       "    <tr>\n",
       "      <th>2</th>\n",
       "      <td>HONG KONG:  Hong Kong shares opened 0.66 perce...</td>\n",
       "      <td>hong kong stocks open 0.66 percent lower</td>\n",
       "      <td>business</td>\n",
       "      <td>7</td>\n",
       "      <td>39</td>\n",
       "      <td>240</td>\n",
       "      <td>40</td>\n",
       "      <td>4.857143</td>\n",
       "      <td>4.857143</td>\n",
       "      <td>0</td>\n",
       "      <td>7</td>\n",
       "      <td>Hong Kong shares opened 0.66 percent lower M...</td>\n",
       "      <td>Hong Kong shares opened 0.66 percent lower M...</td>\n",
       "      <td>hong kong stocks open 0.66 percent lower</td>\n",
       "    </tr>\n",
       "    <tr>\n",
       "      <th>3</th>\n",
       "      <td>HONG KONG: Asian markets tumbled Tuesday follo...</td>\n",
       "      <td>asian stocks sink euro near nine year</td>\n",
       "      <td>business</td>\n",
       "      <td>8</td>\n",
       "      <td>547</td>\n",
       "      <td>3257</td>\n",
       "      <td>38</td>\n",
       "      <td>4.428571</td>\n",
       "      <td>4.428571</td>\n",
       "      <td>0</td>\n",
       "      <td>173</td>\n",
       "      <td>Asian markets tumbled Tuesday following painf...</td>\n",
       "      <td>Asian markets tumbled Tuesday following painf...</td>\n",
       "      <td>asian stocks sink euro near nine year</td>\n",
       "    </tr>\n",
       "    <tr>\n",
       "      <th>4</th>\n",
       "      <td>NEW YORK: US oil prices Monday slipped below $...</td>\n",
       "      <td>us oil prices slip below 50 a barr</td>\n",
       "      <td>business</td>\n",
       "      <td>8</td>\n",
       "      <td>630</td>\n",
       "      <td>3782</td>\n",
       "      <td>34</td>\n",
       "      <td>3.375000</td>\n",
       "      <td>3.375000</td>\n",
       "      <td>2</td>\n",
       "      <td>192</td>\n",
       "      <td>US oil prices Monday slipped below $50 a barr...</td>\n",
       "      <td>US oil prices Monday slipped below $50 a barr...</td>\n",
       "      <td>us oil prices slip below 50 a barr</td>\n",
       "    </tr>\n",
       "  </tbody>\n",
       "</table>\n",
       "</div>"
      ],
      "text/plain": [
       "                                             Article  \\\n",
       "0  KARACHI: The Sindh government has decided to b...   \n",
       "1  HONG KONG: Asian markets started 2015 on an up...   \n",
       "2  HONG KONG:  Hong Kong shares opened 0.66 perce...   \n",
       "3  HONG KONG: Asian markets tumbled Tuesday follo...   \n",
       "4  NEW YORK: US oil prices Monday slipped below $...   \n",
       "\n",
       "                                             Heading  NewsType  \\\n",
       "0  sindh govt decides to cut public transport far...  business   \n",
       "1                    asia stocks up in new year trad  business   \n",
       "2           hong kong stocks open 0.66 percent lower  business   \n",
       "3             asian stocks sink euro near nine year   business   \n",
       "4                 us oil prices slip below 50 a barr  business   \n",
       "\n",
       "   heading_word_count  article_word_count  heading_char_count  \\\n",
       "0                  12                 130                 727   \n",
       "1                   7                 760                4820   \n",
       "2                   7                  39                 240   \n",
       "3                   8                 547                3257   \n",
       "4                   8                 630                3782   \n",
       "\n",
       "   article_char_count  heading_avg_word_len  article_avg_word_len  \\\n",
       "0                  63              4.333333              4.333333   \n",
       "1                  31              3.571429              3.571429   \n",
       "2                  40              4.857143              4.857143   \n",
       "3                  38              4.428571              4.428571   \n",
       "4                  34              3.375000              3.375000   \n",
       "\n",
       "   heading_stopwords  article_stopwords  \\\n",
       "0                  2                 35   \n",
       "1                  2                204   \n",
       "2                  0                  7   \n",
       "3                  0                173   \n",
       "4                  2                192   \n",
       "\n",
       "                                 article_after_colon  \\\n",
       "0   The Sindh government has decided to bring dow...   \n",
       "1   Asian markets started 2015 on an upswing in l...   \n",
       "2    Hong Kong shares opened 0.66 percent lower M...   \n",
       "3   Asian markets tumbled Tuesday following painf...   \n",
       "4   US oil prices Monday slipped below $50 a barr...   \n",
       "\n",
       "                                       article_spacy  \\\n",
       "0   The Sindh government has decided to bring dow...   \n",
       "1   Asian markets started 2015 on an upswing in l...   \n",
       "2    Hong Kong shares opened 0.66 percent lower M...   \n",
       "3   Asian markets tumbled Tuesday following painf...   \n",
       "4   US oil prices Monday slipped below $50 a barr...   \n",
       "\n",
       "                                       heading_spacy  \n",
       "0  sindh govt decides to cut public transport far...  \n",
       "1                    asia stocks up in new year trad  \n",
       "2           hong kong stocks open 0.66 percent lower  \n",
       "3             asian stocks sink euro near nine year   \n",
       "4                 us oil prices slip below 50 a barr  "
      ]
     },
     "execution_count": 227,
     "metadata": {},
     "output_type": "execute_result"
    }
   ],
   "source": [
    "articles.head()\n",
    "\n"
   ]
  },
  {
   "cell_type": "markdown",
   "metadata": {},
   "source": [
    "After looking at the articles, I noticed they lead with a city followed by a colon. I will remove the colon to have just the text."
   ]
  },
  {
   "cell_type": "code",
   "execution_count": 278,
   "metadata": {},
   "outputs": [
    {
     "data": {
      "text/html": [
       "<div>\n",
       "<style scoped>\n",
       "    .dataframe tbody tr th:only-of-type {\n",
       "        vertical-align: middle;\n",
       "    }\n",
       "\n",
       "    .dataframe tbody tr th {\n",
       "        vertical-align: top;\n",
       "    }\n",
       "\n",
       "    .dataframe thead th {\n",
       "        text-align: right;\n",
       "    }\n",
       "</style>\n",
       "<table border=\"1\" class=\"dataframe\">\n",
       "  <thead>\n",
       "    <tr style=\"text-align: right;\">\n",
       "      <th></th>\n",
       "      <th>Article</th>\n",
       "      <th>Heading</th>\n",
       "      <th>NewsType</th>\n",
       "      <th>heading_word_count</th>\n",
       "      <th>article_word_count</th>\n",
       "      <th>heading_char_count</th>\n",
       "      <th>article_char_count</th>\n",
       "      <th>heading_avg_word_len</th>\n",
       "      <th>article_avg_word_len</th>\n",
       "      <th>heading_stopwords</th>\n",
       "      <th>article_stopwords</th>\n",
       "      <th>article_after_colon</th>\n",
       "      <th>article_spacy</th>\n",
       "      <th>heading_spacy</th>\n",
       "    </tr>\n",
       "  </thead>\n",
       "  <tbody>\n",
       "    <tr>\n",
       "      <th>0</th>\n",
       "      <td>KARACHI: The Sindh government has decided to b...</td>\n",
       "      <td>sindh govt decides to cut public transport far...</td>\n",
       "      <td>business</td>\n",
       "      <td>12</td>\n",
       "      <td>130</td>\n",
       "      <td>727</td>\n",
       "      <td>63</td>\n",
       "      <td>4.333333</td>\n",
       "      <td>4.333333</td>\n",
       "      <td>2</td>\n",
       "      <td>35</td>\n",
       "      <td>The Sindh government has decided to bring dow...</td>\n",
       "      <td>The Sindh government has decided to bring dow...</td>\n",
       "      <td>sindh govt decides to cut public transport far...</td>\n",
       "    </tr>\n",
       "    <tr>\n",
       "      <th>1</th>\n",
       "      <td>HONG KONG: Asian markets started 2015 on an up...</td>\n",
       "      <td>asia stocks up in new year trad</td>\n",
       "      <td>business</td>\n",
       "      <td>7</td>\n",
       "      <td>760</td>\n",
       "      <td>4820</td>\n",
       "      <td>31</td>\n",
       "      <td>3.571429</td>\n",
       "      <td>3.571429</td>\n",
       "      <td>2</td>\n",
       "      <td>204</td>\n",
       "      <td>Asian markets started 2015 on an upswing in l...</td>\n",
       "      <td>Asian markets started 2015 on an upswing in l...</td>\n",
       "      <td>asia stocks up in new year trad</td>\n",
       "    </tr>\n",
       "    <tr>\n",
       "      <th>2</th>\n",
       "      <td>HONG KONG:  Hong Kong shares opened 0.66 perce...</td>\n",
       "      <td>hong kong stocks open 0.66 percent lower</td>\n",
       "      <td>business</td>\n",
       "      <td>7</td>\n",
       "      <td>39</td>\n",
       "      <td>240</td>\n",
       "      <td>40</td>\n",
       "      <td>4.857143</td>\n",
       "      <td>4.857143</td>\n",
       "      <td>0</td>\n",
       "      <td>7</td>\n",
       "      <td>Hong Kong shares opened 0.66 percent lower M...</td>\n",
       "      <td>Hong Kong shares opened 0.66 percent lower M...</td>\n",
       "      <td>hong kong stocks open 0.66 percent lower</td>\n",
       "    </tr>\n",
       "    <tr>\n",
       "      <th>3</th>\n",
       "      <td>HONG KONG: Asian markets tumbled Tuesday follo...</td>\n",
       "      <td>asian stocks sink euro near nine year</td>\n",
       "      <td>business</td>\n",
       "      <td>8</td>\n",
       "      <td>547</td>\n",
       "      <td>3257</td>\n",
       "      <td>38</td>\n",
       "      <td>4.428571</td>\n",
       "      <td>4.428571</td>\n",
       "      <td>0</td>\n",
       "      <td>173</td>\n",
       "      <td>Asian markets tumbled Tuesday following painf...</td>\n",
       "      <td>Asian markets tumbled Tuesday following painf...</td>\n",
       "      <td>asian stocks sink euro near nine year</td>\n",
       "    </tr>\n",
       "    <tr>\n",
       "      <th>4</th>\n",
       "      <td>NEW YORK: US oil prices Monday slipped below $...</td>\n",
       "      <td>us oil prices slip below 50 a barr</td>\n",
       "      <td>business</td>\n",
       "      <td>8</td>\n",
       "      <td>630</td>\n",
       "      <td>3782</td>\n",
       "      <td>34</td>\n",
       "      <td>3.375000</td>\n",
       "      <td>3.375000</td>\n",
       "      <td>2</td>\n",
       "      <td>192</td>\n",
       "      <td>US oil prices Monday slipped below $50 a barr...</td>\n",
       "      <td>US oil prices Monday slipped below $50 a barr...</td>\n",
       "      <td>us oil prices slip below 50 a barr</td>\n",
       "    </tr>\n",
       "  </tbody>\n",
       "</table>\n",
       "</div>"
      ],
      "text/plain": [
       "                                             Article  \\\n",
       "0  KARACHI: The Sindh government has decided to b...   \n",
       "1  HONG KONG: Asian markets started 2015 on an up...   \n",
       "2  HONG KONG:  Hong Kong shares opened 0.66 perce...   \n",
       "3  HONG KONG: Asian markets tumbled Tuesday follo...   \n",
       "4  NEW YORK: US oil prices Monday slipped below $...   \n",
       "\n",
       "                                             Heading  NewsType  \\\n",
       "0  sindh govt decides to cut public transport far...  business   \n",
       "1                    asia stocks up in new year trad  business   \n",
       "2           hong kong stocks open 0.66 percent lower  business   \n",
       "3             asian stocks sink euro near nine year   business   \n",
       "4                 us oil prices slip below 50 a barr  business   \n",
       "\n",
       "   heading_word_count  article_word_count  heading_char_count  \\\n",
       "0                  12                 130                 727   \n",
       "1                   7                 760                4820   \n",
       "2                   7                  39                 240   \n",
       "3                   8                 547                3257   \n",
       "4                   8                 630                3782   \n",
       "\n",
       "   article_char_count  heading_avg_word_len  article_avg_word_len  \\\n",
       "0                  63              4.333333              4.333333   \n",
       "1                  31              3.571429              3.571429   \n",
       "2                  40              4.857143              4.857143   \n",
       "3                  38              4.428571              4.428571   \n",
       "4                  34              3.375000              3.375000   \n",
       "\n",
       "   heading_stopwords  article_stopwords  \\\n",
       "0                  2                 35   \n",
       "1                  2                204   \n",
       "2                  0                  7   \n",
       "3                  0                173   \n",
       "4                  2                192   \n",
       "\n",
       "                                 article_after_colon  \\\n",
       "0   The Sindh government has decided to bring dow...   \n",
       "1   Asian markets started 2015 on an upswing in l...   \n",
       "2    Hong Kong shares opened 0.66 percent lower M...   \n",
       "3   Asian markets tumbled Tuesday following painf...   \n",
       "4   US oil prices Monday slipped below $50 a barr...   \n",
       "\n",
       "                                       article_spacy  \\\n",
       "0   The Sindh government has decided to bring dow...   \n",
       "1   Asian markets started 2015 on an upswing in l...   \n",
       "2    Hong Kong shares opened 0.66 percent lower M...   \n",
       "3   Asian markets tumbled Tuesday following painf...   \n",
       "4   US oil prices Monday slipped below $50 a barr...   \n",
       "\n",
       "                                       heading_spacy  \n",
       "0  sindh govt decides to cut public transport far...  \n",
       "1                    asia stocks up in new year trad  \n",
       "2           hong kong stocks open 0.66 percent lower  \n",
       "3             asian stocks sink euro near nine year   \n",
       "4                 us oil prices slip below 50 a barr  "
      ]
     },
     "execution_count": 278,
     "metadata": {},
     "output_type": "execute_result"
    }
   ],
   "source": [
    "#start a new column with the acticle without the cities.\n",
    "articles['article_after_colon']= articles['Article'].apply(lambda x: x.split(':')[1] if len(x.split(':')) > 1 else 'y')\n",
    "articles.head()\n",
    "\n"
   ]
  },
  {
   "cell_type": "code",
   "execution_count": 279,
   "metadata": {},
   "outputs": [
    {
     "name": "stdout",
     "output_type": "stream",
     "text": [
      "Training set score: 0.9863748967795211\n",
      "\n",
      "Test set score: 0.9740740740740741\n"
     ]
    },
    {
     "name": "stderr",
     "output_type": "stream",
     "text": [
      "/Users/christianfreeman/anaconda3/lib/python3.7/site-packages/sklearn/linear_model/logistic.py:433: FutureWarning: Default solver will be changed to 'lbfgs' in 0.22. Specify a solver to silence this warning.\n",
      "  FutureWarning)\n"
     ]
    }
   ],
   "source": [
    "#Perform 'L2' Logistic regression on the data\n",
    "from sklearn.linear_model import LogisticRegression\n",
    "lr = LogisticRegression(penalty='l2') # No need to specify l2 as it's the default. But we put it for demonstration.\n",
    "train = lr.fit(tdfif_x_train, tdfif_y_train)\n",
    "#print(X_train.shape, y_train.shape)\n",
    "print('Training set score:', lr.score(tdfif_x_train, tdfif_y_train))\n",
    "print('\\nTest set score:', lr.score(tdfif_x_test, tdfif_y_test))"
   ]
  },
  {
   "cell_type": "markdown",
   "metadata": {},
   "source": [
    "This performs very well! I am comfortable with the outcome, but will try another model."
   ]
  },
  {
   "cell_type": "code",
   "execution_count": 280,
   "metadata": {},
   "outputs": [
    {
     "name": "stdout",
     "output_type": "stream",
     "text": [
      "Training set score: 0.9863748967795211\n",
      "\n",
      "Test set score: 0.9629629629629629\n"
     ]
    }
   ],
   "source": [
    "#Try Gradient Boost \n",
    "from sklearn import ensemble\n",
    "clf = ensemble.GradientBoostingClassifier()\n",
    "#fit the model\n",
    "train = clf.fit(tdfif_x_train, tdfif_y_train)\n",
    "\n",
    "print('Training set score:', clf.score(tdfif_x_train, tdfif_y_train))\n",
    "print('\\nTest set score:', clf.score(tdfif_x_test, tdfif_y_test))"
   ]
  },
  {
   "cell_type": "markdown",
   "metadata": {},
   "source": [
    "Not as well as Logistic Regression model, but close."
   ]
  },
  {
   "cell_type": "code",
   "execution_count": null,
   "metadata": {},
   "outputs": [],
   "source": []
  },
  {
   "cell_type": "code",
   "execution_count": null,
   "metadata": {},
   "outputs": [],
   "source": []
  },
  {
   "cell_type": "code",
   "execution_count": null,
   "metadata": {},
   "outputs": [],
   "source": []
  },
  {
   "cell_type": "code",
   "execution_count": null,
   "metadata": {},
   "outputs": [],
   "source": []
  },
  {
   "cell_type": "code",
   "execution_count": 252,
   "metadata": {},
   "outputs": [
    {
     "data": {
      "text/plain": [
       "<2422x24791 sparse matrix of type '<class 'numpy.float64'>'\n",
       "\twith 261705 stored elements in Compressed Sparse Row format>"
      ]
     },
     "execution_count": 252,
     "metadata": {},
     "output_type": "execute_result"
    }
   ],
   "source": [
    "tdfif_x_train"
   ]
  },
  {
   "cell_type": "code",
   "execution_count": 259,
   "metadata": {},
   "outputs": [
    {
     "name": "stdout",
     "output_type": "stream",
     "text": [
      "Percent variance captured by all components: 78.56574126878654\n",
      "Component 0:\n",
      "2068    0.525093\n",
      "1169    0.507785\n",
      "2336    0.502911\n",
      "1820    0.502903\n",
      "2326    0.499731\n",
      "1573    0.494242\n",
      "1445    0.492498\n",
      "2148    0.489107\n",
      "2073    0.487780\n",
      "1780    0.483292\n",
      "Name: 0, dtype: float64\n",
      "Component 1:\n",
      "1495    0.442065\n",
      "564     0.435199\n",
      "1925    0.428812\n",
      "1113    0.404662\n",
      "1114    0.400013\n",
      "1094    0.398529\n",
      "1935    0.386681\n",
      "2057    0.386158\n",
      "561     0.384102\n",
      "940     0.383149\n",
      "Name: 1, dtype: float64\n",
      "Component 2:\n",
      "2092    0.402243\n",
      "652     0.373173\n",
      "503     0.364389\n",
      "2336    0.351296\n",
      "415     0.342566\n",
      "230     0.341222\n",
      "891     0.336470\n",
      "210     0.336457\n",
      "1097    0.329347\n",
      "1519    0.328572\n",
      "Name: 2, dtype: float64\n",
      "Component 3:\n",
      "526     0.403645\n",
      "1853    0.372891\n",
      "1852    0.368786\n",
      "1332    0.368786\n",
      "1949    0.364730\n",
      "1803    0.359839\n",
      "656     0.354659\n",
      "1739    0.354659\n",
      "378     0.354659\n",
      "578     0.354659\n",
      "Name: 3, dtype: float64\n",
      "Component 4:\n",
      "1597    0.396530\n",
      "1113    0.379325\n",
      "1066    0.363447\n",
      "1495    0.360911\n",
      "674     0.358284\n",
      "1967    0.356292\n",
      "1956    0.350334\n",
      "261     0.348657\n",
      "697     0.348362\n",
      "1233    0.347276\n",
      "Name: 4, dtype: float64\n"
     ]
    }
   ],
   "source": [
    "from sklearn.decomposition import TruncatedSVD\n",
    "from sklearn.pipeline import make_pipeline\n",
    "from sklearn.preprocessing import Normalizer\n",
    "\n",
    "#Our SVD data reducer.  We are going to reduce the feature space from 1379 to 130.\n",
    "svd= TruncatedSVD(1000)\n",
    "lsa = make_pipeline(svd, Normalizer(copy=False))\n",
    "# Run SVD on the training data, then project the training data.\n",
    "x_train_lsa = lsa.fit_transform(tdfif_x_train)\n",
    "\n",
    "variance_explained=svd.explained_variance_ratio_\n",
    "total_variance = variance_explained.sum()\n",
    "print(\"Percent variance captured by all components:\",total_variance*100)\n",
    "\n",
    "#Looking at what sorts of paragraphs our solution considers similar, for the first five identified topics\n",
    "paras_by_component=pd.DataFrame(x_train_lsa)\n",
    "for i in range(5):\n",
    "    print('Component {}:'.format(i))\n",
    "    print(paras_by_component.loc[:,i].sort_values(ascending=False)[0:10])"
   ]
  },
  {
   "cell_type": "code",
   "execution_count": 261,
   "metadata": {},
   "outputs": [
    {
     "data": {
      "image/png": "[encoded data removed]",
      "text/plain": [
       "<Figure size 432x288 with 2 Axes>"
      ]
     },
     "metadata": {},
     "output_type": "display_data"
    },
    {
     "name": "stdout",
     "output_type": "stream",
     "text": [
      "Key:\n",
      "0 0\n",
      "1 1\n",
      "2 2\n",
      "3 3\n",
      "4 4\n",
      "5 5\n",
      "6 6\n",
      "7 7\n",
      "8 8\n",
      "9 9\n"
     ]
    }
   ],
   "source": [
    "# Compute document similarity using LSA components\n",
    "similarity = np.asarray(np.asmatrix(x_train_lsa) * np.asmatrix(x_train_lsa).T)\n",
    "#Only taking the first 10 sentences\n",
    "sim_matrix=pd.DataFrame(similarity).iloc[0:20,0:20]\n",
    "#Making a plot\n",
    "ax = sns.heatmap(sim_matrix,yticklabels=range(20))\n",
    "plt.show()\n",
    "\n",
    "#Generating a key for the plot.\n",
    "print('Key:')\n",
    "for i in range(10):\n",
    "    print(i,sim_matrix.index[i])"
   ]
  },
  {
   "cell_type": "markdown",
   "metadata": {},
   "source": [
    "## Conclusion "
   ]
  },
  {
   "cell_type": "markdown",
   "metadata": {},
   "source": [
    "For my texts, clustering did not perform very well, but modeling perfomed extremely well. Logistic regression perfomed the best out of all modeling. For this spacific text, I didnt see any advantages for clustering the text. The advantages for for modeling the text are: speed — prepping and fitting the data performed much faster on modeling. Accuracy — modeling the text was alot more accurate than clustering for this specific text. \n"
   ]
  },
  {
   "cell_type": "code",
   "execution_count": null,
   "metadata": {},
   "outputs": [],
   "source": []
  },
  {
   "cell_type": "code",
   "execution_count": null,
   "metadata": {},
   "outputs": [],
   "source": []
  },
  {
   "cell_type": "code",
   "execution_count": null,
   "metadata": {},
   "outputs": [],
   "source": []
  },
  {
   "cell_type": "code",
   "execution_count": null,
   "metadata": {},
   "outputs": [],
   "source": []
  },
  {
   "cell_type": "code",
   "execution_count": null,
   "metadata": {},
   "outputs": [],
   "source": []
  },
  {
   "cell_type": "code",
   "execution_count": null,
   "metadata": {},
   "outputs": [],
   "source": []
  },
  {
   "cell_type": "code",
   "execution_count": 19,
   "metadata": {},
   "outputs": [],
   "source": []
  },
  {
   "cell_type": "code",
   "execution_count": null,
   "metadata": {},
   "outputs": [],
   "source": []
  },
  {
   "cell_type": "code",
   "execution_count": null,
   "metadata": {},
   "outputs": [],
   "source": []
  },
  {
   "cell_type": "code",
   "execution_count": null,
   "metadata": {},
   "outputs": [],
   "source": []
  },
  {
   "cell_type": "code",
   "execution_count": null,
   "metadata": {},
   "outputs": [],
   "source": []
  },
  {
   "cell_type": "code",
   "execution_count": null,
   "metadata": {},
   "outputs": [],
   "source": []
  },
  {
   "cell_type": "code",
   "execution_count": null,
   "metadata": {},
   "outputs": [],
   "source": []
  },
  {
   "cell_type": "code",
   "execution_count": null,
   "metadata": {},
   "outputs": [],
   "source": []
  },
  {
   "cell_type": "code",
   "execution_count": null,
   "metadata": {},
   "outputs": [],
   "source": []
  },
  {
   "cell_type": "code",
   "execution_count": null,
   "metadata": {
    "scrolled": true
   },
   "outputs": [],
   "source": [
    "\n"
   ]
  },
  {
   "cell_type": "code",
   "execution_count": null,
   "metadata": {},
   "outputs": [],
   "source": []
  },
  {
   "cell_type": "code",
   "execution_count": null,
   "metadata": {},
   "outputs": [],
   "source": []
  },
  {
   "cell_type": "code",
   "execution_count": null,
   "metadata": {},
   "outputs": [],
   "source": []
  },
  {
   "cell_type": "code",
   "execution_count": null,
   "metadata": {},
   "outputs": [],
   "source": []
  },
  {
   "cell_type": "code",
   "execution_count": null,
   "metadata": {},
   "outputs": [],
   "source": []
  },
  {
   "cell_type": "code",
   "execution_count": null,
   "metadata": {},
   "outputs": [],
   "source": []
  }
 ],
 "metadata": {
  "kernelspec": {
   "display_name": "Python 3",
   "language": "python",
   "name": "python3"
  },
  "language_info": {
   "codemirror_mode": {
    "name": "ipython",
    "version": 3
   },
   "file_extension": ".py",
   "mimetype": "text/x-python",
   "name": "python",
   "nbconvert_exporter": "python",
   "pygments_lexer": "ipython3",
   "version": "3.7.3"
  }
 },
 "nbformat": 4,
 "nbformat_minor": 2
}
