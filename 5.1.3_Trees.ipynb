{
 "cells": [
  {
   "cell_type": "code",
   "execution_count": 1,
   "metadata": {},
   "outputs": [],
   "source": [
    "class Node:\n",
    "    def __init__(self, val):\n",
    "        self.left = None\n",
    "        self.right = None\n",
    "        self.val = val\n",
    "root = Node(60)\n",
    "root.left = Node(30)\n",
    "root.right = Node(30)\n",
    "\n",
    "# Add the appropriate children for ‘B’ and ‘C’\n",
    "root.left.left = Node(20)\n",
    "root.left.right = Node(10)\n",
    "root.right.left = Node(15)\n",
    "root.right.right = Node(15)\n",
    "root.left.left.left = Node(10)\n",
    "root.left.left.right = Node(10)\n",
    "root.left.right.left = Node(5)\n",
    "root.left.right.right = Node(5)\n",
    "root.right.left.left = Node(10)\n",
    "root.right.left.right = Node(5)\n",
    "root.right.right.left = Node(8)\n",
    "root.right.right.right =Node(7)"
   ]
  },
  {
   "cell_type": "code",
   "execution_count": null,
   "metadata": {},
   "outputs": [],
   "source": []
  }
 ],
 "metadata": {
  "kernelspec": {
   "display_name": "Python 3",
   "language": "python",
   "name": "python3"
  },
  "language_info": {
   "codemirror_mode": {
    "name": "ipython",
    "version": 3
   },
   "file_extension": ".py",
   "mimetype": "text/x-python",
   "name": "python",
   "nbconvert_exporter": "python",
   "pygments_lexer": "ipython3",
   "version": "3.7.3"
  }
 },
 "nbformat": 4,
 "nbformat_minor": 2
}
