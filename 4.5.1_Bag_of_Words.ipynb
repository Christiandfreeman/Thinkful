{
 "cells": [
  {
   "cell_type": "code",
   "execution_count": 2,
   "metadata": {},
   "outputs": [],
   "source": [
    "%matplotlib inline\n",
    "import numpy as np\n",
    "import pandas as pd\n",
    "import scipy\n",
    "import sklearn\n",
    "import spacy\n",
    "import matplotlib.pyplot as plt\n",
    "import seaborn as sns\n",
    "import re\n",
    "from nltk.corpus import gutenberg, stopwords\n",
    "import nltk\n"
   ]
  },
  {
   "cell_type": "code",
   "execution_count": 3,
   "metadata": {},
   "outputs": [
    {
     "name": "stdout",
     "output_type": "stream",
     "text": [
      "['austen-emma.txt', 'austen-persuasion.txt', 'austen-sense.txt', 'bible-kjv.txt', 'blake-poems.txt', 'bryant-stories.txt', 'burgess-busterbrown.txt', 'carroll-alice.txt', 'chesterton-ball.txt', 'chesterton-brown.txt', 'chesterton-thursday.txt', 'edgeworth-parents.txt', 'melville-moby_dick.txt', 'milton-paradise.txt', 'shakespeare-caesar.txt', 'shakespeare-hamlet.txt', 'shakespeare-macbeth.txt', 'whitman-leaves.txt']\n"
     ]
    }
   ],
   "source": [
    "print(gutenberg.fileids())"
   ]
  },
  {
   "cell_type": "code",
   "execution_count": 4,
   "metadata": {},
   "outputs": [
    {
     "name": "stdout",
     "output_type": "stream",
     "text": [
      "\n",
      "Raw:\n",
      " [The King James Bible]\n",
      "\n",
      "The Old Testament of the King James Bible\n",
      "\n",
      "The First Book of Moses:  Called Genesis\n",
      "\n",
      "\n",
      "1:1 In the beginning God created the heaven and the earth.\n",
      "\n",
      "1:2 And the earth was without \n"
     ]
    }
   ],
   "source": [
    "#Set Bible text to a variable and print the first 200 characters \n",
    "bible = gutenberg.raw('bible-kjv.txt')\n",
    "print('\\nRaw:\\n', bible[0:200])"
   ]
  },
  {
   "cell_type": "code",
   "execution_count": 5,
   "metadata": {},
   "outputs": [],
   "source": [
    "#match text \n",
    "pattern = \"[\\[].*?[\\]]\"\n",
    "kj_bible = re.sub(pattern, \"\", bible)"
   ]
  },
  {
   "cell_type": "code",
   "execution_count": 6,
   "metadata": {},
   "outputs": [
    {
     "name": "stdout",
     "output_type": "stream",
     "text": [
      "\n",
      "\n",
      "The Old Testament of the King James Bible\n",
      "\n",
      "The First Book of Moses:  Called Genesis\n",
      "\n",
      "\n",
      "1:1 In the beginning God created the heaven and the earth.\n",
      "\n",
      "1:2 And the earth was without form, and void; and da\n"
     ]
    }
   ],
   "source": [
    "print(kj_bible[0:200])"
   ]
  },
  {
   "cell_type": "code",
   "execution_count": 7,
   "metadata": {},
   "outputs": [
    {
     "name": "stdout",
     "output_type": "stream",
     "text": [
      "The Old Testament of the King James Bible The First Book of Moses: Called Genesis 1:1 In the beginning God created the heaven and the earth. 1:2 And the earth was without form, and void; and darkness was upon the face of the deep. And the Spirit of God moved upon the face of the waters. 1:3 And God said, Let there be light: and there was light. 1:4 And God saw the light, that it was good: and God divided the light from the darkness. 1:5 And God called the light Day, and the darkness he called Ni\n"
     ]
    }
   ],
   "source": [
    "#remove white spaces \n",
    "kj_bible = ' '.join(kj_bible.split())\n",
    "print(kj_bible[0:500])"
   ]
  },
  {
   "cell_type": "code",
   "execution_count": 8,
   "metadata": {},
   "outputs": [
    {
     "name": "stdout",
     "output_type": "stream",
     "text": [
      "Length of kj_bible_doc: 45340\n"
     ]
    }
   ],
   "source": [
    "#load spaCy for parsing \n",
    "nlp = spacy.load('en')\n",
    "kj_bible_doc = nlp(kj_bible[:200000])\n",
    "\n",
    "print('Length of kj_bible_doc: {}'.format(len(kj_bible_doc)))\n"
   ]
  },
  {
   "cell_type": "code",
   "execution_count": 9,
   "metadata": {},
   "outputs": [],
   "source": [
    "from collections import Counter\n",
    "# create a function that counts the most common words \n",
    "def word_counter(text, include_stop=False):\n",
    "    \n",
    "    words = []\n",
    "    for token in text:\n",
    "        if not token.is_punct and (not token.is_stop or include_stop):\n",
    "            words.append(token.text)\n",
    "            \n",
    "    \n",
    "    return Counter(words)"
   ]
  },
  {
   "cell_type": "code",
   "execution_count": 10,
   "metadata": {},
   "outputs": [
    {
     "name": "stdout",
     "output_type": "stream",
     "text": [
      "Bible word count: [('unto', 573), ('said', 470), ('thou', 271), ('thy', 261), ('thee', 261), ('shall', 245), ('God', 226), ('father', 184), ('land', 179), ('Jacob', 178), ('came', 175), ('LORD', 170), ('son', 159), ('sons', 143), ('Joseph', 137), ('Abraham', 130), ('earth', 120), ('man', 118), ('years', 111), ('went', 105)]\n"
     ]
    }
   ],
   "source": [
    "kj_bible_words = word_counter(kj_bible_doc).most_common(20)\n",
    "print('Bible word count:', kj_bible_words)"
   ]
  },
  {
   "cell_type": "code",
   "execution_count": 37,
   "metadata": {},
   "outputs": [
    {
     "name": "stdout",
     "output_type": "stream",
     "text": [
      "Bible Lemma Count: [('unto', 580), ('say', 543), ('son', 302), ('thou', 271), ('thy', 262), ('thee', 261), ('come', 252), ('shall', 245), ('God', 226), ('father', 193), ('land', 185), ('man', 184), ('Jacob', 178), ('LORD', 170), ('brother', 166), ('Joseph', 137), ('day', 132), ('Abraham', 130), ('wife', 125), ('earth', 120)]\n"
     ]
    }
   ],
   "source": [
    "#count the lemmas within the text \n",
    "def lemma_count(text, include_stop=True):\n",
    "\n",
    "    lemmas = []\n",
    "    for token in text:\n",
    "        if not token.is_punct and (not token.is_stop or include_stop):\n",
    "            lemmas.append(token.lemma_)\n",
    "            \n",
    "    \n",
    "    return Counter(lemmas)\n",
    "\n",
    "bible_lemma_count = lemma_count(kj_bible_doc, include_stop=False).most_common(20)\n",
    "print('Bible Lemma Count:', bible_lemma_count)"
   ]
  },
  {
   "cell_type": "code",
   "execution_count": 34,
   "metadata": {},
   "outputs": [],
   "source": [
    "kj_bible_doc =[ kj for kj in kj_bible_doc if kj.text.isalpha()]"
   ]
  },
  {
   "cell_type": "code",
   "execution_count": null,
   "metadata": {},
   "outputs": [],
   "source": [
    "from sklearn.feature_extraction.text import CountVectorizer"
   ]
  },
  {
   "cell_type": "code",
   "execution_count": 14,
   "metadata": {},
   "outputs": [],
   "source": [
    "vectorize = CountVectorizer()\n",
    "\n",
    "bag_of_words = vectorize.fit_transform(kj_bible_doc)\n",
    "bag_of_words"
   ]
  },
  {
   "cell_type": "code",
   "execution_count": null,
   "metadata": {},
   "outputs": [],
   "source": []
  },
  {
   "cell_type": "code",
   "execution_count": null,
   "metadata": {},
   "outputs": [],
   "source": []
  }
 ],
 "metadata": {
  "kernelspec": {
   "display_name": "Python 3",
   "language": "python",
   "name": "python3"
  }
 },
 "nbformat": 4,
 "nbformat_minor": 2
}
